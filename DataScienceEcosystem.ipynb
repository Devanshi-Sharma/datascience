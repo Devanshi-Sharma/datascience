{
 "cells": [
  {
   "cell_type": "markdown",
   "id": "85b2b03f",
   "metadata": {},
   "source": [
    "# Data Science Tools and Ecosystem"
   ]
  },
  {
   "cell_type": "markdown",
   "id": "2cb41ba0",
   "metadata": {},
   "source": [
    "#### In this notebook, the tools of data science are discussed."
   ]
  },
  {
   "cell_type": "markdown",
   "id": "3ddd267f",
   "metadata": {},
   "source": [
    "Some of the popular languages that Data Scientists use are:\n",
    "1. Python\n",
    "2. R\n",
    "3. SQL\n",
    "4. C++\n",
    "5. Java etc;"
   ]
  },
  {
   "cell_type": "markdown",
   "id": "175b3772",
   "metadata": {},
   "source": [
    "Some of the commonly libaries used by Data Scientists are:\n",
    "1. TensorFlow\n",
    "2. NumPy\n",
    "3. SciPy\n",
    "4. Pandas\n",
    "5. Matplotlib\n",
    "6. Keras\n",
    "7. Scikit-Learn\n",
    "8. PyTorch etc;"
   ]
  },
  {
   "cell_type": "markdown",
   "id": "5b4fa7de",
   "metadata": {},
   "source": [
    "|Data Science Tools|\n",
    "| --- |\n",
    "|SAS|\n",
    "|Apache Hadoop|\n",
    "|TensorFlow|"
   ]
  },
  {
   "cell_type": "markdown",
   "id": "5756eebd",
   "metadata": {},
   "source": [
    "### Below are a few examples of evaluating arithmetic expressions in Python"
   ]
  },
  {
   "cell_type": "code",
   "execution_count": 2,
   "id": "4c104d21",
   "metadata": {},
   "outputs": [
    {
     "data": {
      "text/plain": [
       "17"
      ]
     },
     "execution_count": 2,
     "metadata": {},
     "output_type": "execute_result"
    }
   ],
   "source": [
    "#this is a common arithmetic example to miultiply and then add integers\n",
    "(3*4)+5"
   ]
  },
  {
   "cell_type": "code",
   "execution_count": 3,
   "id": "ce05ad77",
   "metadata": {},
   "outputs": [
    {
     "data": {
      "text/plain": [
       "1.6666666666666667"
      ]
     },
     "execution_count": 3,
     "metadata": {},
     "output_type": "execute_result"
    }
   ],
   "source": [
    "#This will convert 100minutes to hours by dividing by 60\n",
    "100/60"
   ]
  },
  {
   "cell_type": "markdown",
   "id": "cd683298",
   "metadata": {},
   "source": [
    "__Objective__\n",
    "* List Popular languages for Data Science\n",
    "* List popular libaries for Data Science\n",
    "* List of well knows Data Science Tools\n",
    "* How to provide comments in the cells."
   ]
  },
  {
   "cell_type": "markdown",
   "id": "8c639e0e",
   "metadata": {},
   "source": [
    "# Author\n",
    "Devanshi Sharma"
   ]
  },
  {
   "cell_type": "code",
   "execution_count": null,
   "id": "eddc5b8c",
   "metadata": {},
   "outputs": [],
   "source": []
  }
 ],
 "metadata": {
  "kernelspec": {
   "display_name": "Python 3 (ipykernel)",
   "language": "python",
   "name": "python3"
  },
  "language_info": {
   "codemirror_mode": {
    "name": "ipython",
    "version": 3
   },
   "file_extension": ".py",
   "mimetype": "text/x-python",
   "name": "python",
   "nbconvert_exporter": "python",
   "pygments_lexer": "ipython3",
   "version": "3.9.13"
  }
 },
 "nbformat": 4,
 "nbformat_minor": 5
}
